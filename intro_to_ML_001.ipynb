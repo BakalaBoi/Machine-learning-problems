{
 "cells": [
  {
   "cell_type": "code",
   "execution_count": 1,
   "metadata": {},
   "outputs": [
    {
     "name": "stdout",
     "output_type": "stream",
     "text": [
      "x:\n",
      "[[1 2 3]\n",
      " [4 5 6]]\n"
     ]
    }
   ],
   "source": [
    "import numpy as np\n",
    "x= np.array([[1,2,3],[4,5,6]])\n",
    "print (\"x:\\n{}\".format(x))"
   ]
  },
  {
   "cell_type": "code",
   "execution_count": 2,
   "metadata": {},
   "outputs": [
    {
     "name": "stdout",
     "output_type": "stream",
     "text": [
      "Numpy array:\n",
      "[[ 1.  0.  0.  0.]\n",
      " [ 0.  1.  0.  0.]\n",
      " [ 0.  0.  1.  0.]\n",
      " [ 0.  0.  0.  1.]]\n"
     ]
    }
   ],
   "source": [
    "from scipy import sparse \n",
    "eye = np.eye(4)\n",
    "print(\"Numpy array:\\n{}\".format(eye))"
   ]
  },
  {
   "cell_type": "code",
   "execution_count": 3,
   "metadata": {
    "collapsed": true
   },
   "outputs": [],
   "source": [
    "from sklearn.datasets import load_iris\n",
    "iris_dataset= load_iris()"
   ]
  },
  {
   "cell_type": "code",
   "execution_count": 4,
   "metadata": {},
   "outputs": [
    {
     "name": "stdout",
     "output_type": "stream",
     "text": [
      "dict_keys(['data', 'target', 'target_names', 'DESCR', 'feature_names'])\n"
     ]
    }
   ],
   "source": [
    "print(format(iris_dataset.keys()))"
   ]
  },
  {
   "cell_type": "code",
   "execution_count": 37,
   "metadata": {
    "scrolled": false
   },
   "outputs": [
    {
     "name": "stdout",
     "output_type": "stream",
     "text": [
      "Iris Plants Database\n",
      "====================\n",
      "\n",
      "Notes\n",
      "-----\n",
      "Data Set Characteristics:\n",
      "    :Number of Instances: 150 (50 in each of three classes)\n",
      "    :Number of Attributes: 4 numeric, predictive attributes\n",
      "...\n"
     ]
    },
    {
     "data": {
      "text/plain": [
       "[None]"
      ]
     },
     "execution_count": 37,
     "metadata": {},
     "output_type": "execute_result"
    }
   ],
   "source": [
    "[print(iris_dataset['DESCR'][0: 200]+ \"\\n...\")]"
   ]
  },
  {
   "cell_type": "code",
   "execution_count": 6,
   "metadata": {},
   "outputs": [
    {
     "name": "stdout",
     "output_type": "stream",
     "text": [
      "['setosa' 'versicolor' 'virginica']\n"
     ]
    }
   ],
   "source": [
    "\n",
    "print(format(iris_dataset['target_names']))"
   ]
  },
  {
   "cell_type": "code",
   "execution_count": 7,
   "metadata": {},
   "outputs": [
    {
     "name": "stdout",
     "output_type": "stream",
     "text": [
      "<class 'numpy.ndarray'>\n"
     ]
    }
   ],
   "source": [
    "print(type(iris_dataset['data']))"
   ]
  },
  {
   "cell_type": "code",
   "execution_count": 8,
   "metadata": {},
   "outputs": [
    {
     "name": "stdout",
     "output_type": "stream",
     "text": [
      "(150, 4)\n"
     ]
    }
   ],
   "source": [
    "print(iris_dataset['data'].shape)"
   ]
  },
  {
   "cell_type": "code",
   "execution_count": 9,
   "metadata": {},
   "outputs": [],
   "source": [
    "from sklearn.model_selection import train_test_split\n",
    "X_train, X_test, Y_train, Y_test = train_test_split(\n",
    "    iris_dataset['data'], iris_dataset['target'], random_state=0)"
   ]
  },
  {
   "cell_type": "code",
   "execution_count": 17,
   "metadata": {},
   "outputs": [],
   "source": [
    "import sys\n",
    "import pandas as pd\n",
    "import matplotlib\n",
    "import numpy as np\n",
    "import scipy as sp \n",
    "import IPython\n",
    "import sklearn\n",
    "import mglearn\n",
    "from IPython.display import display\n",
    "import matplotlib.pyplot as plt"
   ]
  },
  {
   "cell_type": "code",
   "execution_count": 11,
   "metadata": {
    "scrolled": true
   },
   "outputs": [
    {
     "name": "stdout",
     "output_type": "stream",
     "text": [
      "[[ 5.9  3.   4.2  1.5]\n",
      " [ 5.8  2.6  4.   1.2]\n",
      " [ 6.8  3.   5.5  2.1]\n",
      " [ 4.7  3.2  1.3  0.2]\n",
      " [ 6.9  3.1  5.1  2.3]\n",
      " [ 5.   3.5  1.6  0.6]\n",
      " [ 5.4  3.7  1.5  0.2]\n",
      " [ 5.   2.   3.5  1. ]\n",
      " [ 6.5  3.   5.5  1.8]\n",
      " [ 6.7  3.3  5.7  2.5]\n",
      " [ 6.   2.2  5.   1.5]\n",
      " [ 6.7  2.5  5.8  1.8]\n",
      " [ 5.6  2.5  3.9  1.1]\n",
      " [ 7.7  3.   6.1  2.3]\n",
      " [ 6.3  3.3  4.7  1.6]\n",
      " [ 5.5  2.4  3.8  1.1]\n",
      " [ 6.3  2.7  4.9  1.8]\n",
      " [ 6.3  2.8  5.1  1.5]\n",
      " [ 4.9  2.5  4.5  1.7]\n",
      " [ 6.3  2.5  5.   1.9]\n",
      " [ 7.   3.2  4.7  1.4]\n",
      " [ 6.5  3.   5.2  2. ]\n",
      " [ 6.   3.4  4.5  1.6]\n",
      " [ 4.8  3.1  1.6  0.2]\n",
      " [ 5.8  2.7  5.1  1.9]\n",
      " [ 5.6  2.7  4.2  1.3]\n",
      " [ 5.6  2.9  3.6  1.3]\n",
      " [ 5.5  2.5  4.   1.3]\n",
      " [ 6.1  3.   4.6  1.4]\n",
      " [ 7.2  3.2  6.   1.8]\n",
      " [ 5.3  3.7  1.5  0.2]\n",
      " [ 4.3  3.   1.1  0.1]\n",
      " [ 6.4  2.7  5.3  1.9]\n",
      " [ 5.7  3.   4.2  1.2]\n",
      " [ 5.4  3.4  1.7  0.2]\n",
      " [ 5.7  4.4  1.5  0.4]\n",
      " [ 6.9  3.1  4.9  1.5]\n",
      " [ 4.6  3.1  1.5  0.2]\n",
      " [ 5.9  3.   5.1  1.8]\n",
      " [ 5.1  2.5  3.   1.1]\n",
      " [ 4.6  3.4  1.4  0.3]\n",
      " [ 6.2  2.2  4.5  1.5]\n",
      " [ 7.2  3.6  6.1  2.5]\n",
      " [ 5.7  2.9  4.2  1.3]\n",
      " [ 4.8  3.   1.4  0.1]\n",
      " [ 7.1  3.   5.9  2.1]\n",
      " [ 6.9  3.2  5.7  2.3]\n",
      " [ 6.5  3.   5.8  2.2]\n",
      " [ 6.4  2.8  5.6  2.1]\n",
      " [ 5.1  3.8  1.6  0.2]\n",
      " [ 4.8  3.4  1.6  0.2]\n",
      " [ 6.5  3.2  5.1  2. ]\n",
      " [ 6.7  3.3  5.7  2.1]\n",
      " [ 4.5  2.3  1.3  0.3]\n",
      " [ 6.2  3.4  5.4  2.3]\n",
      " [ 4.9  3.   1.4  0.2]\n",
      " [ 5.7  2.5  5.   2. ]\n",
      " [ 6.9  3.1  5.4  2.1]\n",
      " [ 4.4  3.2  1.3  0.2]\n",
      " [ 5.   3.6  1.4  0.2]\n",
      " [ 7.2  3.   5.8  1.6]\n",
      " [ 5.1  3.5  1.4  0.3]\n",
      " [ 4.4  3.   1.3  0.2]\n",
      " [ 5.4  3.9  1.7  0.4]\n",
      " [ 5.5  2.3  4.   1.3]\n",
      " [ 6.8  3.2  5.9  2.3]\n",
      " [ 7.6  3.   6.6  2.1]\n",
      " [ 5.1  3.5  1.4  0.2]\n",
      " [ 4.9  3.1  1.5  0.1]\n",
      " [ 5.2  3.4  1.4  0.2]\n",
      " [ 5.7  2.8  4.5  1.3]\n",
      " [ 6.6  3.   4.4  1.4]\n",
      " [ 5.   3.2  1.2  0.2]\n",
      " [ 5.1  3.3  1.7  0.5]\n",
      " [ 6.4  2.9  4.3  1.3]\n",
      " [ 5.4  3.4  1.5  0.4]\n",
      " [ 7.7  2.6  6.9  2.3]\n",
      " [ 4.9  2.4  3.3  1. ]\n",
      " [ 7.9  3.8  6.4  2. ]\n",
      " [ 6.7  3.1  4.4  1.4]\n",
      " [ 5.2  4.1  1.5  0.1]\n",
      " [ 6.   3.   4.8  1.8]\n",
      " [ 5.8  4.   1.2  0.2]\n",
      " [ 7.7  2.8  6.7  2. ]\n",
      " [ 5.1  3.8  1.5  0.3]\n",
      " [ 4.7  3.2  1.6  0.2]\n",
      " [ 7.4  2.8  6.1  1.9]\n",
      " [ 5.   3.3  1.4  0.2]\n",
      " [ 6.3  3.4  5.6  2.4]\n",
      " [ 5.7  2.8  4.1  1.3]\n",
      " [ 5.8  2.7  3.9  1.2]\n",
      " [ 5.7  2.6  3.5  1. ]\n",
      " [ 6.4  3.2  5.3  2.3]\n",
      " [ 6.7  3.   5.2  2.3]\n",
      " [ 6.3  2.5  4.9  1.5]\n",
      " [ 6.7  3.   5.   1.7]\n",
      " [ 5.   3.   1.6  0.2]\n",
      " [ 5.5  2.4  3.7  1. ]\n",
      " [ 6.7  3.1  5.6  2.4]\n",
      " [ 5.8  2.7  5.1  1.9]\n",
      " [ 5.1  3.4  1.5  0.2]\n",
      " [ 6.6  2.9  4.6  1.3]\n",
      " [ 5.6  3.   4.1  1.3]\n",
      " [ 5.9  3.2  4.8  1.8]\n",
      " [ 6.3  2.3  4.4  1.3]\n",
      " [ 5.5  3.5  1.3  0.2]\n",
      " [ 5.1  3.7  1.5  0.4]\n",
      " [ 4.9  3.1  1.5  0.1]\n",
      " [ 6.3  2.9  5.6  1.8]\n",
      " [ 5.8  2.7  4.1  1. ]\n",
      " [ 7.7  3.8  6.7  2.2]\n",
      " [ 4.6  3.2  1.4  0.2]]\n"
     ]
    }
   ],
   "source": [
    "print(X_train)"
   ]
  },
  {
   "cell_type": "code",
   "execution_count": 23,
   "metadata": {},
   "outputs": [
    {
     "name": "stdout",
     "output_type": "stream",
     "text": [
      "(112, 4)\n"
     ]
    }
   ],
   "source": [
    "print(X_train.shape)"
   ]
  },
  {
   "cell_type": "code",
   "execution_count": 13,
   "metadata": {},
   "outputs": [
    {
     "name": "stdout",
     "output_type": "stream",
     "text": [
      "112.5\n"
     ]
    }
   ],
   "source": [
    "print(.75* 150)"
   ]
  },
  {
   "cell_type": "code",
   "execution_count": 18,
   "metadata": {},
   "outputs": [
    {
     "ename": "AttributeError",
     "evalue": "'numpy.ndarray' object has no attribute 'plot'",
     "output_type": "error",
     "traceback": [
      "\u001b[1;31m---------------------------------------------------------------------------\u001b[0m",
      "\u001b[1;31mAttributeError\u001b[0m                            Traceback (most recent call last)",
      "\u001b[1;32m<ipython-input-18-ce70b25cb0f5>\u001b[0m in \u001b[0;36m<module>\u001b[1;34m()\u001b[0m\n\u001b[0;32m      2\u001b[0m grr=pd.plotting.scatter_matrix(iris_dataframe,c=Y_train, figsize=(15,15),marker='o',\n\u001b[0;32m      3\u001b[0m                      hist_kwds={'bins':20},s=60, alpha=.8, cmap=mglearn.cm3)\n\u001b[1;32m----> 4\u001b[1;33m \u001b[0mgrr\u001b[0m\u001b[1;33m.\u001b[0m\u001b[0mplot\u001b[0m\u001b[1;33m(\u001b[0m\u001b[1;33m)\u001b[0m\u001b[1;33m\u001b[0m\u001b[0m\n\u001b[0m",
      "\u001b[1;31mAttributeError\u001b[0m: 'numpy.ndarray' object has no attribute 'plot'"
     ]
    }
   ],
   "source": [
    "iris_dataframe= pd.DataFrame(X_train,columns=iris_dataset.feature_names)\n",
    "grr=pd.plotting.scatter_matrix(iris_dataframe,c=Y_train, figsize=(15,15),marker='o',\n",
    "                     hist_kwds={'bins':20},s=60, alpha=.8, cmap=mglearn.cm3)\n"
   ]
  },
  {
   "cell_type": "code",
   "execution_count": 20,
   "metadata": {},
   "outputs": [],
   "source": [
    "plt.show()"
   ]
  },
  {
   "cell_type": "code",
   "execution_count": 25,
   "metadata": {},
   "outputs": [],
   "source": [
    "from sklearn.neighbors import KNeighborsClassifier\n",
    "knn= KNeighborsClassifier(n_neighbors=1)"
   ]
  },
  {
   "cell_type": "code",
   "execution_count": 27,
   "metadata": {},
   "outputs": [
    {
     "data": {
      "text/plain": [
       "KNeighborsClassifier(algorithm='auto', leaf_size=30, metric='minkowski',\n",
       "           metric_params=None, n_jobs=1, n_neighbors=1, p=2,\n",
       "           weights='uniform')"
      ]
     },
     "execution_count": 27,
     "metadata": {},
     "output_type": "execute_result"
    }
   ],
   "source": [
    "knn.fit(X_train,Y_train)"
   ]
  },
  {
   "cell_type": "code",
   "execution_count": 30,
   "metadata": {},
   "outputs": [
    {
     "name": "stdout",
     "output_type": "stream",
     "text": [
      "(1, 4)\n"
     ]
    }
   ],
   "source": [
    "X_new=np.array([[5,2.9,1,0.2]])\n",
    "print(X_new.shape)"
   ]
  },
  {
   "cell_type": "code",
   "execution_count": 32,
   "metadata": {},
   "outputs": [
    {
     "name": "stdout",
     "output_type": "stream",
     "text": [
      "[0]\n",
      "['setosa']\n"
     ]
    }
   ],
   "source": [
    "prediction= knn.predict(X_new)\n",
    "print(prediction)\n",
    "print(format(iris_dataset['target_names'][prediction]))"
   ]
  },
  {
   "cell_type": "code",
   "execution_count": 33,
   "metadata": {},
   "outputs": [
    {
     "name": "stdout",
     "output_type": "stream",
     "text": [
      "[2 1 0 2 0 2 0 1 1 1 2 1 1 1 1 0 1 1 0 0 2 1 0 0 2 0 0 1 1 0 2 1 0 2 2 1 0\n",
      " 2]\n"
     ]
    }
   ],
   "source": [
    "y_pred= knn.predict(X_test)\n",
    "print(y_pred)"
   ]
  },
  {
   "cell_type": "code",
   "execution_count": 35,
   "metadata": {},
   "outputs": [
    {
     "name": "stdout",
     "output_type": "stream",
     "text": [
      "0.973684210526\n"
     ]
    }
   ],
   "source": [
    "print(np.mean(y_pred==Y_test))"
   ]
  },
  {
   "cell_type": "code",
   "execution_count": null,
   "metadata": {
    "collapsed": true
   },
   "outputs": [],
   "source": []
  }
 ],
 "metadata": {
  "kernelspec": {
   "display_name": "Python 3",
   "language": "python",
   "name": "python3"
  },
  "language_info": {
   "codemirror_mode": {
    "name": "ipython",
    "version": 3
   },
   "file_extension": ".py",
   "mimetype": "text/x-python",
   "name": "python",
   "nbconvert_exporter": "python",
   "pygments_lexer": "ipython3",
   "version": "3.6.1"
  }
 },
 "nbformat": 4,
 "nbformat_minor": 2
}
